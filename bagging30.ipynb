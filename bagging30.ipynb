{
  "nbformat": 4,
  "nbformat_minor": 0,
  "metadata": {
    "colab": {
      "provenance": []
    },
    "kernelspec": {
      "name": "python3",
      "display_name": "Python 3"
    },
    "language_info": {
      "name": "python"
    }
  },
  "cells": [
    {
      "cell_type": "code",
      "execution_count": null,
      "metadata": {
        "id": "cxyrhh9sKpF9"
      },
      "outputs": [],
      "source": [
        "import pandas as pd\n",
        "import numpy as np\n",
        "import matplotlib.pyplot as plt\n",
        "\n",
        "df=pd.read_csv(\"diabetes.csv\")\n",
        "\n",
        "df.isnull().any()\n",
        "\n",
        "df.head()\n",
        "\n",
        "df.isnull()\n",
        "\n",
        "df.describe()\n",
        "\n",
        "df.drop(\"SkinThickness\",axis=1)\n",
        "\n",
        "df.drop(\"SkinThickness\",axis=1,inplace=True)\n",
        "\n",
        "df1=df.sample(frac=0.5)\n",
        "\n",
        "df1\n",
        "\n",
        "df1.describe()\n",
        "\n",
        "df1.isnull()\n",
        "\n",
        "X = df1.iloc[:, :-1].values\n",
        "y = df1.iloc[:, -1].values\n",
        "\n",
        "X\n",
        "\n",
        "from sklearn.model_selection import train_test_split\n",
        "X_train, X_test, y_train, y_test = train_test_split(X, y, test_size = 0.3, random_state = 1)\n",
        "\n",
        "from sklearn.preprocessing import StandardScaler\n",
        "sc = StandardScaler()\n",
        "X_train= sc.fit_transform(X_train)\n",
        "X_test= sc.transform(X_test)\n",
        "\n",
        "from sklearn.tree import DecisionTreeClassifier\n",
        "from sklearn.ensemble import BaggingClassifier\n",
        "\n",
        "dc = DecisionTreeClassifier()\n",
        "model = BaggingClassifier(estimator= dc, n_estimators=10)\n",
        "classifiers = model.fit(X_train, y_train)\n",
        "\n",
        "y_pred = model.predict(X_test)\n",
        "from sklearn.metrics import accuracy_score\n",
        "\n",
        "# Calculate accuracy\n",
        "accuracy = accuracy_score(y_test, y_pred)\n",
        "print(\"Accuracy:\", accuracy)"
      ]
    }
  ]
}